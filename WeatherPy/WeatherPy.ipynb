{
 "cells": [
  {
   "cell_type": "markdown",
   "metadata": {},
   "source": [
    "# WeatherPy\n",
    "----\n",
    "\n",
    "#### Note\n",
    "* Instructions have been included for each segment. You do not have to follow them exactly, but they are included to help you think through the steps."
   ]
  },
  {
   "cell_type": "code",
   "execution_count": 1,
   "metadata": {
    "scrolled": true
   },
   "outputs": [],
   "source": [
    "# Dependencies and Setup\n",
    "import matplotlib.pyplot as plt\n",
    "import pandas as pd\n",
    "import numpy as np\n",
    "import requests\n",
    "import time\n",
    "import scipy.stats as st\n",
    "from scipy.stats import linregress\n",
    "\n",
    "# Import API key\n",
    "from config import weather_api_key\n",
    "\n",
    "# Incorporated citipy to determine city based on latitude and longitude\n",
    "from citipy import citipy\n",
    "\n",
    "# Output File (CSV)\n",
    "output_data_file = \"output_data/cities.csv\"\n",
    "\n",
    "# Range of latitudes and longitudes\n",
    "lat_range = (-90, 90)\n",
    "lng_range = (-180, 180)"
   ]
  },
  {
   "cell_type": "markdown",
   "metadata": {},
   "source": [
    "## Generate Cities List"
   ]
  },
  {
   "cell_type": "code",
   "execution_count": 2,
   "metadata": {},
   "outputs": [
    {
     "data": {
      "text/plain": [
       "611"
      ]
     },
     "execution_count": 2,
     "metadata": {},
     "output_type": "execute_result"
    }
   ],
   "source": [
    "# List for holding lat_lngs and cities\n",
    "lat_lngs = []\n",
    "cities = []\n",
    "\n",
    "# Create a set of random lat and lng combinations\n",
    "lats = np.random.uniform(lat_range[0], lat_range[1], size=1500)\n",
    "lngs = np.random.uniform(lng_range[0], lng_range[1], size=1500)\n",
    "lat_lngs = zip(lats, lngs)\n",
    "\n",
    "# Identify nearest city for each lat, lng combination\n",
    "for lat_lng in lat_lngs:\n",
    "    city = citipy.nearest_city(lat_lng[0], lat_lng[1]).city_name\n",
    "    \n",
    "    # If the city is unique, then add it to a our cities list\n",
    "    if city not in cities:\n",
    "        cities.append(city)\n",
    "\n",
    "# Print the city count to confirm sufficient count\n",
    "len(cities)\n",
    "\n"
   ]
  },
  {
   "cell_type": "markdown",
   "metadata": {},
   "source": [
    "### Perform API Calls\n",
    "* Perform a weather check on each city using a series of successive API calls.\n",
    "* Include a print log of each city as it'sbeing processed (with the city number and city name).\n"
   ]
  },
  {
   "cell_type": "code",
   "execution_count": 3,
   "metadata": {
    "scrolled": true
   },
   "outputs": [
    {
     "name": "stdout",
     "output_type": "stream",
     "text": [
      "{'cod': '404', 'message': 'city not found'}\n"
     ]
    }
   ],
   "source": [
    "#get info through APIs\n",
    "url = \"http://api.openweathermap.org/data/2.5/weather?\"\n",
    "units = \"metric\"\n",
    "\n",
    "# Build partial query URL\n",
    "query_url = f\"{url}appid={weather_api_key}&units={units}&q=\"\n",
    "\n",
    "weather_info = requests.get(query_url + city)\n",
    "weather_json = weather_info.json()\n",
    "print(weather_json)\n"
   ]
  },
  {
   "cell_type": "code",
   "execution_count": 4,
   "metadata": {},
   "outputs": [
    {
     "name": "stdout",
     "output_type": "stream",
     "text": [
      "<Response [404]>\n"
     ]
    }
   ],
   "source": [
    "print(requests.get(query_url + city))"
   ]
  },
  {
   "cell_type": "code",
   "execution_count": 12,
   "metadata": {},
   "outputs": [
    {
     "name": "stdout",
     "output_type": "stream",
     "text": [
      "Beginning Data Retrieval\n",
      "-------------------------------\n",
      "City not found. Skipping...\n",
      "Processing Record 1 | Vaini\n",
      "Processing Record 2 | Guerrero Negro\n",
      "Processing Record 3 | Souillac\n",
      "City not found. Skipping...\n",
      "Processing Record 4 | Bethel\n",
      "Processing Record 5 | Kaitangata\n",
      "Processing Record 6 | Amapá\n",
      "Processing Record 7 | Mayo\n",
      "Processing Record 8 | Busselton\n",
      "Processing Record 9 | Bluff\n",
      "Processing Record 10 | Yellowknife\n",
      "Processing Record 11 | Caravelas\n",
      "Processing Record 12 | Pochutla\n",
      "Processing Record 13 | Gunjur\n",
      "City not found. Skipping...\n",
      "Processing Record 14 | Palmer\n",
      "Processing Record 15 | Strakonice\n",
      "Processing Record 16 | Tigil'\n",
      "Processing Record 17 | Grindavik\n",
      "Processing Record 18 | Faanui\n",
      "Processing Record 19 | Inhambane\n",
      "Processing Record 20 | Bredasdorp\n",
      "Processing Record 21 | Kapaa\n",
      "Processing Record 22 | Katsuura\n",
      "Processing Record 23 | Ponta do Sol\n",
      "Processing Record 24 | Hermanus\n",
      "Processing Record 25 | Yumen\n",
      "Processing Record 26 | Zhigansk\n",
      "Processing Record 27 | Ushuaia\n",
      "City not found. Skipping...\n",
      "City not found. Skipping...\n",
      "Processing Record 28 | East London\n",
      "Processing Record 29 | New Norfolk\n",
      "Processing Record 30 | Manaus\n",
      "Processing Record 31 | Grootfontein\n",
      "Processing Record 32 | Mount Isa\n",
      "Processing Record 33 | Namatanai\n",
      "Processing Record 34 | Lorengau\n",
      "Processing Record 35 | Port Lincoln\n",
      "Processing Record 36 | Panguna\n",
      "Processing Record 37 | Jamestown\n",
      "Processing Record 38 | Te Anau\n",
      "Processing Record 39 | Ancud\n",
      "Processing Record 40 | Moindou\n",
      "Processing Record 41 | Codrington\n",
      "Processing Record 42 | Abaetetuba\n",
      "Processing Record 43 | Bonavista\n",
      "City not found. Skipping...\n",
      "Processing Record 44 | Toledo\n",
      "Processing Record 45 | Qaanaaq\n",
      "Processing Record 46 | Verkhnyaya Inta\n",
      "Processing Record 47 | Tevriz\n",
      "Processing Record 48 | Dikson\n",
      "Processing Record 49 | Skibbereen\n",
      "Processing Record 50 | Mataura\n",
      "Processing Record 51 | Hong Kong\n",
      "Processing Record 52 | Tuktoyaktuk\n",
      "Processing Record 53 | Khatanga\n",
      "Processing Record 54 | Puerto Ayora\n",
      "Processing Record 55 | Arraial do Cabo\n",
      "Processing Record 56 | Kahului\n",
      "Processing Record 57 | Liku\n",
      "Processing Record 58 | Thompson\n",
      "Processing Record 59 | Sitka\n",
      "Processing Record 60 | Albany\n",
      "Processing Record 61 | Upernavik\n",
      "Processing Record 62 | Norden\n",
      "Processing Record 63 | Nikolskoye\n",
      "City not found. Skipping...\n",
      "Processing Record 64 | Saint Paul Harbor\n",
      "Processing Record 65 | Ligayan\n",
      "Processing Record 66 | Rikitea\n",
      "Processing Record 67 | Yulara\n",
      "Processing Record 68 | São João Batista\n",
      "Processing Record 69 | Santa Cruz de Barahona\n",
      "Processing Record 70 | Kavieng\n",
      "Processing Record 71 | Norman Wells\n",
      "Processing Record 72 | Sabha\n",
      "Processing Record 73 | General Pico\n",
      "Processing Record 74 | Pashiya\n",
      "Processing Record 75 | Longyearbyen\n",
      "Processing Record 76 | Laas\n",
      "Processing Record 77 | Mitú\n",
      "Processing Record 78 | Chicama\n",
      "City not found. Skipping...\n",
      "Processing Record 79 | Nador\n",
      "Processing Record 80 | Lüderitz\n",
      "Processing Record 81 | Saint George\n",
      "Processing Record 82 | Nanortalik\n",
      "City not found. Skipping...\n",
      "Processing Record 83 | Butaritari\n",
      "Processing Record 84 | Blind River\n",
      "Processing Record 85 | Bambous Virieux\n",
      "Processing Record 86 | Xihe\n",
      "Processing Record 87 | Quelimane\n",
      "City not found. Skipping...\n",
      "City not found. Skipping...\n",
      "Processing Record 88 | Atuona\n",
      "City not found. Skipping...\n",
      "Processing Record 89 | Tiksi\n",
      "Processing Record 90 | Bandi̇̄pur\n",
      "Processing Record 91 | Hamilton\n",
      "Processing Record 92 | Beian\n",
      "Processing Record 93 | Hasaki\n",
      "Processing Record 94 | Provideniya\n",
      "Processing Record 95 | Iqaluit\n",
      "Processing Record 96 | Lufilufi\n",
      "Processing Record 97 | Barrow\n",
      "City not found. Skipping...\n",
      "Processing Record 98 | Punta Arenas\n",
      "Processing Record 99 | Port Alfred\n",
      "City not found. Skipping...\n",
      "Processing Record 100 | Buala\n",
      "Processing Record 101 | Carnarvon\n",
      "Processing Record 102 | Isangel\n",
      "Processing Record 103 | Sinop Province\n",
      "Processing Record 104 | Kindia\n",
      "City not found. Skipping...\n",
      "Processing Record 105 | Zermatt\n",
      "Processing Record 106 | Ribeira Grande\n",
      "Processing Record 107 | Chul'man\n",
      "Processing Record 108 | Cayenne\n",
      "Processing Record 109 | Rey Bouba\n",
      "Processing Record 110 | Toucheng\n",
      "Processing Record 111 | Hithadhoo\n",
      "Processing Record 112 | Buceş\n",
      "Processing Record 113 | Taoudenni\n",
      "City not found. Skipping...\n",
      "Processing Record 114 | Voh\n",
      "Processing Record 115 | Arlit\n",
      "Processing Record 116 | Esperance\n",
      "City not found. Skipping...\n",
      "City not found. Skipping...\n",
      "Processing Record 117 | Abu Dhabi\n",
      "Processing Record 118 | Lebu\n",
      "Processing Record 119 | Ambon City\n",
      "Processing Record 120 | Huilong\n",
      "Processing Record 121 | Chokurdakh\n",
      "Processing Record 122 | Wehr\n",
      "Processing Record 123 | Georgiyevskoye\n",
      "Processing Record 124 | Balsas\n",
      "Processing Record 125 | Hilo\n",
      "Processing Record 126 | Pevek\n",
      "Processing Record 127 | Kalevala\n",
      "Processing Record 128 | Eidfjord\n",
      "City not found. Skipping...\n",
      "Processing Record 129 | Clyde River\n",
      "City not found. Skipping...\n",
      "Processing Record 130 | Pisco\n",
      "Processing Record 131 | Hat Yai\n",
      "Processing Record 132 | Umluj\n",
      "Processing Record 133 | San Patricio\n",
      "Processing Record 134 | Abu Samrah\n",
      "Processing Record 135 | Sibolga\n",
      "Processing Record 136 | Ilulissat\n",
      "Processing Record 137 | Naze\n",
      "Processing Record 138 | Sakaiminato\n",
      "City not found. Skipping...\n",
      "Processing Record 139 | Alofi\n",
      "Processing Record 140 | Champasak\n",
      "Processing Record 141 | Senneterre\n",
      "Processing Record 142 | Talnakh\n",
      "Processing Record 143 | Usinsk\n",
      "Processing Record 144 | Necochea\n",
      "Processing Record 145 | Kem'\n",
      "Processing Record 146 | Sisimiut\n",
      "Processing Record 147 | Oktyabr'skoye\n",
      "Processing Record 148 | Ovalle\n",
      "Processing Record 149 | Lucea\n",
      "Processing Record 150 | Noumea\n",
      "Processing Record 151 | Saskylakh\n",
      "Processing Record 152 | Airai\n",
      "Processing Record 153 | Talaya\n",
      "City not found. Skipping...\n",
      "Processing Record 154 | Matara\n",
      "Processing Record 155 | Havøysund\n",
      "Processing Record 156 | Faya\n",
      "Processing Record 157 | Vila\n",
      "Processing Record 158 | Shimoda\n",
      "Processing Record 159 | Oranjemund\n",
      "Processing Record 160 | Pangkalanbuun\n",
      "Processing Record 161 | George Town\n",
      "Processing Record 162 | Şile\n",
      "Processing Record 163 | Nuevo Progreso\n",
      "Processing Record 164 | Riyadh\n",
      "Processing Record 165 | Challapata\n",
      "Processing Record 166 | Carnot\n",
      "Processing Record 167 | Narsaq\n",
      "Processing Record 168 | Turukhansk\n",
      "Processing Record 169 | Maniitsoq\n",
      "Processing Record 170 | Dzerzhinsk\n",
      "Processing Record 171 | Brae\n",
      "Processing Record 172 | Klaksvík\n",
      "Processing Record 173 | Berlevåg\n",
      "Processing Record 174 | Touros\n",
      "Processing Record 175 | Comodoro Rivadavia\n",
      "Processing Record 176 | Alta Floresta\n",
      "Processing Record 177 | Boueni\n",
      "Processing Record 178 | Galyugayevskaya\n",
      "Processing Record 179 | Yar-Sale\n",
      "City not found. Skipping...\n",
      "Processing Record 180 | Wellington\n",
      "Processing Record 181 | Cape Town\n",
      "Processing Record 182 | Nuevitas\n",
      "Processing Record 183 | Mahébourg\n",
      "Processing Record 184 | Avarua\n",
      "City not found. Skipping...\n",
      "Processing Record 185 | Port Hardy\n",
      "Processing Record 186 | Serebryanyy Bor\n",
      "Processing Record 187 | Port Elizabeth\n",
      "Processing Record 188 | North Bend\n",
      "Processing Record 189 | Boyolangu\n",
      "Processing Record 190 | Biak\n",
      "Processing Record 191 | Mabaruma\n",
      "Processing Record 192 | Wattegama\n",
      "Processing Record 193 | Pyinmana\n",
      "Processing Record 194 | Nantucket\n",
      "Processing Record 195 | Westport\n",
      "Processing Record 196 | Vila Franca do Campo\n",
      "Processing Record 197 | Aripuanã\n",
      "Processing Record 198 | Pangnirtung\n",
      "Processing Record 199 | Petrovsk\n",
      "Processing Record 200 | Olafsvik\n",
      "Processing Record 201 | Kyshtovka\n",
      "Processing Record 202 | Tura\n",
      "Processing Record 203 | Nizwá\n",
      "Processing Record 204 | Monywa\n",
      "Processing Record 205 | Ponérihouen\n",
      "Processing Record 206 | Navahrudak\n",
      "City not found. Skipping...\n",
      "Processing Record 207 | Mossamedes\n",
      "City not found. Skipping...\n",
      "Processing Record 208 | Cherskiy\n",
      "Processing Record 209 | Hobart\n",
      "Processing Record 210 | Chui\n",
      "Processing Record 211 | Saint-Philippe\n",
      "Processing Record 212 | Nogliki\n",
      "Processing Record 213 | Ubari\n",
      "Processing Record 214 | Luau\n",
      "Processing Record 215 | Godella\n",
      "Processing Record 216 | Bataiporã\n",
      "City not found. Skipping...\n",
      "Processing Record 217 | Alberton\n",
      "Processing Record 218 | Olinda\n",
      "Processing Record 219 | Devonport\n",
      "Processing Record 220 | Flin Flon\n",
      "City not found. Skipping...\n",
      "Processing Record 221 | Mar del Plata\n",
      "Processing Record 222 | Itarema\n",
      "Processing Record 223 | Ust-Nera\n",
      "Processing Record 224 | Bukama\n",
      "Processing Record 225 | Chulumani\n",
      "Processing Record 226 | Teya\n"
     ]
    },
    {
     "name": "stdout",
     "output_type": "stream",
     "text": [
      "Processing Record 227 | Richards Bay\n",
      "Processing Record 228 | Houma\n",
      "Processing Record 229 | Opuwo\n",
      "Processing Record 230 | Tuatapere\n",
      "Processing Record 231 | Mangan\n",
      "Processing Record 232 | Alamogordo\n",
      "Processing Record 233 | Hyderabad\n",
      "Processing Record 234 | Kruisfontein\n",
      "Processing Record 235 | Rome\n",
      "Processing Record 236 | Arkhangelsk\n",
      "Processing Record 237 | Lompoc\n",
      "Processing Record 238 | Erzin\n",
      "Processing Record 239 | Adrar\n",
      "Processing Record 240 | Marsh Harbour\n",
      "City not found. Skipping...\n",
      "Processing Record 241 | Kapoeta\n",
      "Processing Record 242 | Alto Araguaia\n",
      "Processing Record 243 | Lubango\n",
      "Processing Record 244 | Pichayevo\n",
      "Processing Record 245 | Kumul\n",
      "Processing Record 246 | Avera\n",
      "Processing Record 247 | Buta\n",
      "Processing Record 248 | Smoky Lake\n",
      "Processing Record 249 | Trelew\n",
      "City not found. Skipping...\n",
      "Processing Record 250 | Grand Forks\n",
      "Processing Record 251 | Sittwe\n",
      "Processing Record 252 | Igreja Nova\n",
      "Processing Record 253 | Novikovo\n",
      "Processing Record 254 | Merauke\n",
      "Processing Record 255 | Rocha\n",
      "Processing Record 256 | Phang Nga\n",
      "Processing Record 257 | Hirara\n",
      "Processing Record 258 | Pyapon\n",
      "Processing Record 259 | Castro\n",
      "Processing Record 260 | Lavrentiya\n",
      "Processing Record 261 | Waipawa\n",
      "Processing Record 262 | Sambava\n",
      "Processing Record 263 | Praia\n",
      "Processing Record 264 | Bengkulu\n",
      "Processing Record 265 | Barentu\n",
      "Processing Record 266 | Asilah\n",
      "Processing Record 267 | Hobyo\n",
      "Processing Record 268 | Torbay\n",
      "Processing Record 269 | San Luis\n",
      "Processing Record 270 | Los Llanos de Aridane\n",
      "Processing Record 271 | Tutóia\n",
      "Processing Record 272 | Nome\n",
      "Processing Record 273 | Vila Velha\n",
      "Processing Record 274 | Maypangdan\n",
      "Processing Record 275 | Redding\n",
      "Processing Record 276 | Anadyr\n",
      "Processing Record 277 | Juneau\n",
      "Processing Record 278 | Ghanzi\n",
      "Processing Record 279 | Nemuro\n",
      "Processing Record 280 | Wernberg\n",
      "Processing Record 281 | Mahon\n",
      "Processing Record 282 | Boyabat\n",
      "Processing Record 283 | Saint Peter\n",
      "Processing Record 284 | Baicheng\n",
      "City not found. Skipping...\n",
      "Processing Record 285 | Hede\n",
      "Processing Record 286 | Baghmara\n",
      "Processing Record 287 | Rūdbār\n",
      "Processing Record 288 | Meulaboh\n",
      "Processing Record 289 | Neepawa\n",
      "Processing Record 290 | Joshīmath\n",
      "Processing Record 291 | Bandarbeyla\n",
      "City not found. Skipping...\n",
      "Processing Record 292 | Progreso\n",
      "Processing Record 293 | Departamento de Maldonado\n",
      "Processing Record 294 | Tianpeng\n",
      "Processing Record 295 | Los Amates\n",
      "Processing Record 296 | Staraya Poltavka\n",
      "Processing Record 297 | Romny\n",
      "Processing Record 298 | Manjacaze\n",
      "Processing Record 299 | Yenotayevka\n",
      "Processing Record 300 | Wuwei\n",
      "Processing Record 301 | Riachão das Neves\n",
      "Processing Record 302 | Kirkuk\n",
      "Processing Record 303 | Severo-Kuril'sk\n",
      "Processing Record 304 | Chumikan\n",
      "Processing Record 305 | Lakatoro\n",
      "Processing Record 306 | Djibouti\n",
      "Processing Record 307 | Rantepao\n",
      "Processing Record 308 | Husavik\n",
      "Processing Record 309 | San Cristobal\n",
      "Processing Record 310 | Sibu\n",
      "Processing Record 311 | College\n",
      "Processing Record 312 | Thinadhoo\n",
      "Processing Record 313 | Tasiilaq\n",
      "Processing Record 314 | Augustów\n",
      "Processing Record 315 | Sheltozero\n",
      "Processing Record 316 | Sarangani\n",
      "Processing Record 317 | Hay River\n",
      "Processing Record 318 | Soubre\n",
      "Processing Record 319 | Manokwari\n",
      "Processing Record 320 | Clarksville\n",
      "Processing Record 321 | La Palma\n",
      "Processing Record 322 | Tiarei\n",
      "City not found. Skipping...\n",
      "Processing Record 323 | Nogales\n",
      "City not found. Skipping...\n",
      "Processing Record 324 | Beringovskiy\n",
      "Processing Record 325 | Catalina\n",
      "Processing Record 326 | Sakakah\n",
      "Processing Record 327 | Atambua\n",
      "Processing Record 328 | Beloha\n",
      "Processing Record 329 | Kampong Thom\n",
      "Processing Record 330 | Esim\n",
      "Processing Record 331 | Luwuk\n",
      "Processing Record 332 | Hope\n",
      "Processing Record 333 | Deer Lake\n",
      "Processing Record 334 | Nabire\n",
      "Processing Record 335 | Soria\n",
      "Processing Record 336 | Balaipungut\n",
      "Processing Record 337 | Dingle\n",
      "Processing Record 338 | Soyo\n",
      "Processing Record 339 | Russell\n",
      "Processing Record 340 | Geraldton\n",
      "Processing Record 341 | Boulder\n",
      "Processing Record 342 | Labuhan\n",
      "Processing Record 343 | Sinnamary\n",
      "Processing Record 344 | Kavaratti\n",
      "Processing Record 345 | Pandan Niog\n",
      "Processing Record 346 | Jhunjhunūn\n",
      "Processing Record 347 | Lagoa\n",
      "Processing Record 348 | Cidreira\n",
      "Processing Record 349 | Vao\n",
      "Processing Record 350 | Sorong\n",
      "City not found. Skipping...\n",
      "Processing Record 351 | Dandong\n",
      "Processing Record 352 | Volgodonsk\n",
      "Processing Record 353 | Huicungo\n",
      "Processing Record 354 | Karasjok\n",
      "Processing Record 355 | Bilibino\n",
      "Processing Record 356 | Coos Bay\n",
      "Processing Record 357 | Labuan\n",
      "Processing Record 358 | Mount Gambier\n",
      "Processing Record 359 | Tazovsky\n",
      "Processing Record 360 | Visby\n",
      "Processing Record 361 | Sīrjān\n",
      "Processing Record 362 | Digha\n",
      "Processing Record 363 | Conde\n",
      "Processing Record 364 | Bokoro\n",
      "City not found. Skipping...\n",
      "Processing Record 365 | Qena\n",
      "Processing Record 366 | Kanadey\n",
      "Processing Record 367 | Saldanha\n",
      "Processing Record 368 | Kismayo\n",
      "Processing Record 369 | Lata\n",
      "Processing Record 370 | Nelson Bay\n",
      "Processing Record 371 | San Rafael\n",
      "Processing Record 372 | La Ronge\n",
      "Processing Record 373 | Yangi Marg`ilon\n",
      "Processing Record 374 | Khorinsk\n",
      "Processing Record 375 | San Lorenzo\n",
      "Processing Record 376 | Prieska\n",
      "Processing Record 377 | Rovaniemi\n",
      "City not found. Skipping...\n",
      "Processing Record 378 | Luanda\n",
      "Processing Record 379 | Okhotsk\n",
      "Processing Record 380 | Karaton\n",
      "Processing Record 381 | Maragogi\n",
      "Processing Record 382 | Laguna\n",
      "Processing Record 383 | Aswān\n",
      "City not found. Skipping...\n",
      "Processing Record 384 | Tautira\n",
      "Processing Record 385 | Manadhoo\n",
      "Processing Record 386 | Rodrigues Alves\n",
      "Processing Record 387 | Auki\n",
      "Processing Record 388 | Beya\n",
      "Processing Record 389 | Puksoozero\n",
      "Processing Record 390 | Cockburn Town\n",
      "Processing Record 391 | Båtsfjord\n",
      "Processing Record 392 | Igurubi\n",
      "Processing Record 393 | Mwinilunga\n",
      "Processing Record 394 | Vostok\n",
      "Processing Record 395 | Bredy\n",
      "Processing Record 396 | Durban\n",
      "Processing Record 397 | Canoas\n",
      "Processing Record 398 | Launceston\n",
      "Processing Record 399 | Zhuanghe\n",
      "Processing Record 400 | Talcahuano\n",
      "Processing Record 401 | Dalbandin\n",
      "City not found. Skipping...\n",
      "Processing Record 402 | Alice Springs\n",
      "Processing Record 403 | Belmonte\n",
      "Processing Record 404 | Isiro\n",
      "Processing Record 405 | Manaure\n",
      "Processing Record 406 | Parkes\n",
      "Processing Record 407 | Palāsa\n",
      "Processing Record 408 | Mahina\n",
      "Processing Record 409 | Corrales\n",
      "City not found. Skipping...\n",
      "City not found. Skipping...\n",
      "Processing Record 410 | Salisbury\n",
      "Processing Record 411 | Am Timan\n",
      "Processing Record 412 | Teguise\n",
      "Processing Record 413 | Pangody\n",
      "Processing Record 414 | Birao\n",
      "Processing Record 415 | Emerald\n",
      "City not found. Skipping...\n",
      "Processing Record 416 | Codajás\n",
      "Processing Record 417 | Lima\n",
      "Processing Record 418 | Point Fortin\n",
      "Processing Record 419 | Bereda\n",
      "Processing Record 420 | Makueni Boma\n",
      "Processing Record 421 | Dekar\n",
      "City not found. Skipping...\n",
      "Processing Record 422 | Andrews\n",
      "Processing Record 423 | Eyl\n",
      "Processing Record 424 | Santa Cruz del Sur\n",
      "Processing Record 425 | Boende\n",
      "City not found. Skipping...\n",
      "City not found. Skipping...\n",
      "Processing Record 426 | Qui Nhon\n",
      "Processing Record 427 | Lushoto\n",
      "Processing Record 428 | Niimi\n",
      "Processing Record 429 | Hashtrūd\n",
      "Processing Record 430 | Asău\n",
      "Processing Record 431 | Damāvand\n",
      "Processing Record 432 | Kondinskoye\n",
      "Processing Record 433 | Athani\n",
      "Processing Record 434 | Le Port\n",
      "Processing Record 435 | Seoul\n",
      "Processing Record 436 | Porto Velho\n",
      "Processing Record 437 | Bonthe\n",
      "Processing Record 438 | Alyangula\n",
      "Processing Record 439 | Romitan\n",
      "Processing Record 440 | Itoman\n",
      "Processing Record 441 | Rawson\n",
      "Processing Record 442 | Rønne\n",
      "Processing Record 443 | Anaconda\n",
      "Processing Record 444 | Banting\n",
      "Processing Record 445 | Petropavlovsk-Kamchatskiy\n",
      "Processing Record 446 | Ilhabela\n",
      "Processing Record 447 | Biltine\n",
      "Processing Record 448 | Kshenskiy\n",
      "Processing Record 449 | Edgewater\n",
      "Processing Record 450 | Florence\n",
      "Processing Record 451 | Honjō\n",
      "Processing Record 452 | Cehegín\n",
      "Processing Record 453 | Basco\n",
      "Processing Record 454 | Tulsīpur\n",
      "Processing Record 455 | Umm Hājar\n",
      "Processing Record 456 | Half Moon Bay\n",
      "Processing Record 457 | Taltal\n",
      "Processing Record 458 | Poum\n",
      "Processing Record 459 | Byndoor\n",
      "Processing Record 460 | Chapais\n",
      "Processing Record 461 | Aklavik\n"
     ]
    },
    {
     "name": "stdout",
     "output_type": "stream",
     "text": [
      "Processing Record 462 | Broome\n",
      "Processing Record 463 | Mackay\n",
      "Processing Record 464 | Tessalit\n",
      "Processing Record 465 | Blackburn\n",
      "Processing Record 466 | Morondava\n",
      "Processing Record 467 | Baykit\n",
      "Processing Record 468 | Roxana\n",
      "Processing Record 469 | Kununurra\n",
      "Processing Record 470 | Värnamo\n",
      "Processing Record 471 | Severobaykal'sk\n",
      "Processing Record 472 | Henties Bay\n",
      "Processing Record 473 | Blagoyevo\n",
      "Processing Record 474 | Storm Lake\n",
      "Processing Record 475 | Pokhara\n",
      "Processing Record 476 | Egvekinot\n",
      "Processing Record 477 | Samarai\n",
      "Processing Record 478 | Zhuhai\n",
      "Processing Record 479 | Mandalgovi\n",
      "Processing Record 480 | Bavly\n",
      "Processing Record 481 | Coyhaique\n",
      "Processing Record 482 | Sur\n",
      "Processing Record 483 | Macamic\n",
      "Processing Record 484 | Northam\n",
      "Processing Record 485 | Burnie\n",
      "Processing Record 486 | Bol\n",
      "Processing Record 487 | Kharitonovo\n",
      "Processing Record 488 | Jevíčko\n",
      "Processing Record 489 | Tamandaré\n",
      "Processing Record 490 | Salalah\n",
      "Processing Record 491 | Vanimo\n",
      "Processing Record 492 | Vardø\n",
      "Processing Record 493 | Tilichiki\n",
      "Processing Record 494 | Fare\n",
      "Processing Record 495 | Alugan\n",
      "Processing Record 496 | Walvis Bay\n",
      "City not found. Skipping...\n",
      "Processing Record 497 | Manono\n",
      "Processing Record 498 | Keuruu\n",
      "Processing Record 499 | Yacuiba\n",
      "City not found. Skipping...\n",
      "Processing Record 500 | Jertih\n",
      "Processing Record 501 | Kalmunai\n",
      "Processing Record 502 | Lakes Entrance\n",
      "Processing Record 503 | Grenå\n",
      "Processing Record 504 | Tres Picos\n",
      "Processing Record 505 | Lensk\n",
      "Processing Record 506 | Mindelo\n",
      "Processing Record 507 | Izberbash\n",
      "Processing Record 508 | Ixtapa\n",
      "Processing Record 509 | Cruzeiro do Sul\n",
      "Processing Record 510 | Birobidzhan\n",
      "Processing Record 511 | Sulangan\n",
      "Processing Record 512 | Khandyga\n",
      "Processing Record 513 | Bathsheba\n",
      "Processing Record 514 | Lincoln\n",
      "Processing Record 515 | Grinnell\n",
      "Processing Record 516 | San-Pédro\n",
      "Processing Record 517 | Lokosovo\n",
      "City not found. Skipping...\n",
      "Processing Record 518 | Marhaura\n",
      "Processing Record 519 | Puteyets\n",
      "Processing Record 520 | Moose Factory\n",
      "Processing Record 521 | Turaif\n",
      "Processing Record 522 | Portland\n",
      "Processing Record 523 | Daitari\n",
      "Processing Record 524 | Tezu\n",
      "Processing Record 525 | Kishtwār\n",
      "Processing Record 526 | Bubaque\n",
      "Processing Record 527 | Mumford\n",
      "Processing Record 528 | Kuala Terengganu\n",
      "Processing Record 529 | Nālūt\n",
      "Processing Record 530 | Coquimbo\n",
      "Processing Record 531 | Englewood\n",
      "Processing Record 532 | São João da Barra\n",
      "Processing Record 533 | Saint Anthony\n",
      "Processing Record 534 | Washington\n",
      "Processing Record 535 | Acahay\n",
      "Processing Record 536 | Kuusamo\n",
      "Processing Record 537 | Vung Tau\n",
      "Processing Record 538 | Graciano Sánchez\n",
      "Processing Record 539 | Leningradskiy\n",
      "Processing Record 540 | Guiyang\n",
      "Processing Record 541 | Nago\n",
      "Processing Record 542 | Viedma\n",
      "Processing Record 543 | Anloga\n",
      "Processing Record 544 | Paracale\n",
      "Processing Record 545 | Cabo San Lucas\n",
      "Processing Record 546 | Arroyo de la Encomienda\n",
      "Processing Record 547 | Barreirinha\n",
      "Processing Record 548 | Yichang\n",
      "Processing Record 549 | Planeta Rica\n",
      "Processing Record 550 | Dudinka\n",
      "Processing Record 551 | Martapura\n",
      "Processing Record 552 | Omsukchan\n",
      "Processing Record 553 | Mogadishu\n",
      "Processing Record 554 | Kurumkan\n",
      "Processing Record 555 | Sugal\n",
      "Processing Record 556 | Ushtobe\n",
      "Processing Record 557 | San Andrés\n",
      "Processing Record 558 | Coahuayana Viejo\n",
      "Processing Record 559 | Cap Malheureux\n",
      "Processing Record 560 | Fortuna\n",
      "Processing Record 561 | Ust-Tsilma\n",
      "Processing Record 562 | Myszków\n",
      "Processing Record 563 | Chabahar\n",
      "-------------------------------\n",
      "Finished Getting Data\n",
      "-------------------------------\n"
     ]
    }
   ],
   "source": [
    "city_name = []\n",
    "country = []\n",
    "date = []\n",
    "latitude = []\n",
    "longitude = []\n",
    "max_temperature = []\n",
    "humidity = []\n",
    "cloudiness = []\n",
    "wind_speed = []\n",
    "\n",
    "# Processing Record Counter Starting a 1\n",
    "processing_record = 1\n",
    "\n",
    "# Print Starting Log Statement\n",
    "print(f\"Beginning Data Retrieval\")\n",
    "print(f\"-------------------------------\")\n",
    "\n",
    "# Loop Through List of Cities & Perform a Request for Data on Each\n",
    "for city in cities:\n",
    "\n",
    "# Exception Handling\n",
    "    try:\n",
    "        response = requests.get(query_url + city).json()\n",
    "        city_name.append(response[\"name\"])\n",
    "        country.append(response[\"sys\"][\"country\"])\n",
    "        date.append(response[\"dt\"])\n",
    "        latitude.append(response[\"coord\"][\"lat\"])\n",
    "        longitude.append(response[\"coord\"][\"lon\"])\n",
    "        max_temperature.append(response[\"main\"][\"temp_max\"])\n",
    "        humidity.append(response[\"main\"][\"humidity\"])\n",
    "        cloudiness.append(response[\"clouds\"][\"all\"])\n",
    "        wind_speed.append(response[\"wind\"][\"speed\"])\n",
    "        city_record = response[\"name\"]\n",
    "        print(f\"Processing Record {processing_record} | {city_record}\")\n",
    "        \n",
    "        # Increase Processing Record Counter by 1 For Each Loop\n",
    "        processing_record += 1\n",
    "        \n",
    "    except:\n",
    "        print(\"City not found. Skipping...\") \n",
    "    continue\n",
    "\n",
    "# Print Ending Log Statement\n",
    "print(f\"-------------------------------\")\n",
    "print(f\"Finished Getting Data\")\n",
    "print(f\"-------------------------------\")"
   ]
  },
  {
   "cell_type": "markdown",
   "metadata": {},
   "source": [
    "### Convert Raw Data to DataFrame\n",
    "* Export the city data into a .csv.\n",
    "* Display the DataFrame"
   ]
  },
  {
   "cell_type": "code",
   "execution_count": 13,
   "metadata": {},
   "outputs": [],
   "source": [
    "weather_dict = {\n",
    "    \"City\": city_name,\n",
    "    \"Lat\": latitude,\n",
    "    \"Lng\": longitude,\n",
    "    \"Max Temp\": max_temperature,\n",
    "    \"Humidity\": humidity,\n",
    "    \"Cloudiness\": cloudiness,\n",
    "    \"Wind Speed\": wind_speed,\n",
    "    \"Country\": country,\n",
    "    \"Date\": date,\n",
    "   }\n",
    "\n",
    "weather_info = pd.DataFrame(weather_dict)\n",
    "# weather_info.count()"
   ]
  },
  {
   "cell_type": "code",
   "execution_count": 14,
   "metadata": {},
   "outputs": [
    {
     "data": {
      "text/html": [
       "<div>\n",
       "<style scoped>\n",
       "    .dataframe tbody tr th:only-of-type {\n",
       "        vertical-align: middle;\n",
       "    }\n",
       "\n",
       "    .dataframe tbody tr th {\n",
       "        vertical-align: top;\n",
       "    }\n",
       "\n",
       "    .dataframe thead th {\n",
       "        text-align: right;\n",
       "    }\n",
       "</style>\n",
       "<table border=\"1\" class=\"dataframe\">\n",
       "  <thead>\n",
       "    <tr style=\"text-align: right;\">\n",
       "      <th></th>\n",
       "      <th>City</th>\n",
       "      <th>Lat</th>\n",
       "      <th>Lng</th>\n",
       "      <th>Max Temp</th>\n",
       "      <th>Humidity</th>\n",
       "      <th>Cloudiness</th>\n",
       "      <th>Wind Speed</th>\n",
       "      <th>Country</th>\n",
       "      <th>Date</th>\n",
       "    </tr>\n",
       "  </thead>\n",
       "  <tbody>\n",
       "    <tr>\n",
       "      <th>0</th>\n",
       "      <td>Vaini</td>\n",
       "      <td>-21.2000</td>\n",
       "      <td>-175.2000</td>\n",
       "      <td>29.00</td>\n",
       "      <td>74</td>\n",
       "      <td>40</td>\n",
       "      <td>1.54</td>\n",
       "      <td>TO</td>\n",
       "      <td>1613453450</td>\n",
       "    </tr>\n",
       "    <tr>\n",
       "      <th>1</th>\n",
       "      <td>Guerrero Negro</td>\n",
       "      <td>27.9769</td>\n",
       "      <td>-114.0611</td>\n",
       "      <td>14.19</td>\n",
       "      <td>83</td>\n",
       "      <td>19</td>\n",
       "      <td>5.00</td>\n",
       "      <td>MX</td>\n",
       "      <td>1613453206</td>\n",
       "    </tr>\n",
       "    <tr>\n",
       "      <th>2</th>\n",
       "      <td>Souillac</td>\n",
       "      <td>-20.5167</td>\n",
       "      <td>57.5167</td>\n",
       "      <td>26.00</td>\n",
       "      <td>94</td>\n",
       "      <td>75</td>\n",
       "      <td>1.54</td>\n",
       "      <td>MU</td>\n",
       "      <td>1613453447</td>\n",
       "    </tr>\n",
       "    <tr>\n",
       "      <th>3</th>\n",
       "      <td>Bethel</td>\n",
       "      <td>41.3712</td>\n",
       "      <td>-73.4140</td>\n",
       "      <td>0.00</td>\n",
       "      <td>93</td>\n",
       "      <td>90</td>\n",
       "      <td>3.60</td>\n",
       "      <td>US</td>\n",
       "      <td>1613453468</td>\n",
       "    </tr>\n",
       "    <tr>\n",
       "      <th>4</th>\n",
       "      <td>Kaitangata</td>\n",
       "      <td>-46.2817</td>\n",
       "      <td>169.8464</td>\n",
       "      <td>14.44</td>\n",
       "      <td>51</td>\n",
       "      <td>17</td>\n",
       "      <td>2.68</td>\n",
       "      <td>NZ</td>\n",
       "      <td>1613453452</td>\n",
       "    </tr>\n",
       "  </tbody>\n",
       "</table>\n",
       "</div>"
      ],
      "text/plain": [
       "             City      Lat       Lng  Max Temp  Humidity  Cloudiness  \\\n",
       "0           Vaini -21.2000 -175.2000     29.00        74          40   \n",
       "1  Guerrero Negro  27.9769 -114.0611     14.19        83          19   \n",
       "2        Souillac -20.5167   57.5167     26.00        94          75   \n",
       "3          Bethel  41.3712  -73.4140      0.00        93          90   \n",
       "4      Kaitangata -46.2817  169.8464     14.44        51          17   \n",
       "\n",
       "   Wind Speed Country        Date  \n",
       "0        1.54      TO  1613453450  \n",
       "1        5.00      MX  1613453206  \n",
       "2        1.54      MU  1613453447  \n",
       "3        3.60      US  1613453468  \n",
       "4        2.68      NZ  1613453452  "
      ]
     },
     "execution_count": 14,
     "metadata": {},
     "output_type": "execute_result"
    }
   ],
   "source": [
    "weather_info.head()"
   ]
  },
  {
   "cell_type": "markdown",
   "metadata": {},
   "source": [
    "## Inspect the data and remove the cities where the humidity > 100%.\n",
    "----\n",
    "Skip this step if there are no cities that have humidity > 100%. "
   ]
  },
  {
   "cell_type": "code",
   "execution_count": 15,
   "metadata": {},
   "outputs": [
    {
     "data": {
      "text/html": [
       "<div>\n",
       "<style scoped>\n",
       "    .dataframe tbody tr th:only-of-type {\n",
       "        vertical-align: middle;\n",
       "    }\n",
       "\n",
       "    .dataframe tbody tr th {\n",
       "        vertical-align: top;\n",
       "    }\n",
       "\n",
       "    .dataframe thead th {\n",
       "        text-align: right;\n",
       "    }\n",
       "</style>\n",
       "<table border=\"1\" class=\"dataframe\">\n",
       "  <thead>\n",
       "    <tr style=\"text-align: right;\">\n",
       "      <th></th>\n",
       "      <th>Lat</th>\n",
       "      <th>Lng</th>\n",
       "      <th>Max Temp</th>\n",
       "      <th>Humidity</th>\n",
       "      <th>Cloudiness</th>\n",
       "      <th>Wind Speed</th>\n",
       "      <th>Date</th>\n",
       "    </tr>\n",
       "  </thead>\n",
       "  <tbody>\n",
       "    <tr>\n",
       "      <th>count</th>\n",
       "      <td>563.000000</td>\n",
       "      <td>563.000000</td>\n",
       "      <td>563.000000</td>\n",
       "      <td>563.000000</td>\n",
       "      <td>563.000000</td>\n",
       "      <td>563.000000</td>\n",
       "      <td>5.630000e+02</td>\n",
       "    </tr>\n",
       "    <tr>\n",
       "      <th>mean</th>\n",
       "      <td>19.111380</td>\n",
       "      <td>20.497553</td>\n",
       "      <td>10.063179</td>\n",
       "      <td>72.573712</td>\n",
       "      <td>53.177620</td>\n",
       "      <td>3.516039</td>\n",
       "      <td>1.613454e+09</td>\n",
       "    </tr>\n",
       "    <tr>\n",
       "      <th>std</th>\n",
       "      <td>33.189784</td>\n",
       "      <td>89.947722</td>\n",
       "      <td>18.627169</td>\n",
       "      <td>21.008204</td>\n",
       "      <td>38.577791</td>\n",
       "      <td>2.624497</td>\n",
       "      <td>2.379151e+02</td>\n",
       "    </tr>\n",
       "    <tr>\n",
       "      <th>min</th>\n",
       "      <td>-54.800000</td>\n",
       "      <td>-179.166700</td>\n",
       "      <td>-34.000000</td>\n",
       "      <td>1.000000</td>\n",
       "      <td>0.000000</td>\n",
       "      <td>0.210000</td>\n",
       "      <td>1.613453e+09</td>\n",
       "    </tr>\n",
       "    <tr>\n",
       "      <th>25%</th>\n",
       "      <td>-8.063500</td>\n",
       "      <td>-58.147150</td>\n",
       "      <td>-4.000000</td>\n",
       "      <td>64.000000</td>\n",
       "      <td>14.500000</td>\n",
       "      <td>1.540000</td>\n",
       "      <td>1.613453e+09</td>\n",
       "    </tr>\n",
       "    <tr>\n",
       "      <th>50%</th>\n",
       "      <td>22.075200</td>\n",
       "      <td>25.570100</td>\n",
       "      <td>16.110000</td>\n",
       "      <td>78.000000</td>\n",
       "      <td>63.000000</td>\n",
       "      <td>2.860000</td>\n",
       "      <td>1.613454e+09</td>\n",
       "    </tr>\n",
       "    <tr>\n",
       "      <th>75%</th>\n",
       "      <td>46.720050</td>\n",
       "      <td>99.557300</td>\n",
       "      <td>25.045000</td>\n",
       "      <td>88.000000</td>\n",
       "      <td>90.000000</td>\n",
       "      <td>4.835000</td>\n",
       "      <td>1.613454e+09</td>\n",
       "    </tr>\n",
       "    <tr>\n",
       "      <th>max</th>\n",
       "      <td>78.218600</td>\n",
       "      <td>179.316700</td>\n",
       "      <td>39.000000</td>\n",
       "      <td>100.000000</td>\n",
       "      <td>100.000000</td>\n",
       "      <td>17.160000</td>\n",
       "      <td>1.613454e+09</td>\n",
       "    </tr>\n",
       "  </tbody>\n",
       "</table>\n",
       "</div>"
      ],
      "text/plain": [
       "              Lat         Lng    Max Temp    Humidity  Cloudiness  Wind Speed  \\\n",
       "count  563.000000  563.000000  563.000000  563.000000  563.000000  563.000000   \n",
       "mean    19.111380   20.497553   10.063179   72.573712   53.177620    3.516039   \n",
       "std     33.189784   89.947722   18.627169   21.008204   38.577791    2.624497   \n",
       "min    -54.800000 -179.166700  -34.000000    1.000000    0.000000    0.210000   \n",
       "25%     -8.063500  -58.147150   -4.000000   64.000000   14.500000    1.540000   \n",
       "50%     22.075200   25.570100   16.110000   78.000000   63.000000    2.860000   \n",
       "75%     46.720050   99.557300   25.045000   88.000000   90.000000    4.835000   \n",
       "max     78.218600  179.316700   39.000000  100.000000  100.000000   17.160000   \n",
       "\n",
       "               Date  \n",
       "count  5.630000e+02  \n",
       "mean   1.613454e+09  \n",
       "std    2.379151e+02  \n",
       "min    1.613453e+09  \n",
       "25%    1.613453e+09  \n",
       "50%    1.613454e+09  \n",
       "75%    1.613454e+09  \n",
       "max    1.613454e+09  "
      ]
     },
     "execution_count": 15,
     "metadata": {},
     "output_type": "execute_result"
    }
   ],
   "source": [
    "weather_info.describe()"
   ]
  },
  {
   "cell_type": "code",
   "execution_count": 16,
   "metadata": {},
   "outputs": [],
   "source": [
    "# Max Humidity 100. Nothing to remove."
   ]
  },
  {
   "cell_type": "markdown",
   "metadata": {},
   "source": [
    "## Plotting the Data\n",
    "* Use proper labeling of the plots using plot titles (including date of analysis) and axes labels.\n",
    "* Save the plotted figures as .pngs."
   ]
  },
  {
   "cell_type": "markdown",
   "metadata": {},
   "source": [
    "## Latitude vs. Temperature Plot"
   ]
  },
  {
   "cell_type": "code",
   "execution_count": 17,
   "metadata": {
    "scrolled": true
   },
   "outputs": [
    {
     "data": {
      "image/png": "[encoded data removed]",
      "text/plain": [
       "<Figure size 432x288 with 1 Axes>"
      ]
     },
     "metadata": {
      "needs_background": "light"
     },
     "output_type": "display_data"
    }
   ],
   "source": [
    "# Build Scatter Plot for Requirement\n",
    "plt.scatter(weather_info[\"Lat\"], weather_info[\"Max Temp\"], facecolors=\"yellow\", marker=\"o\", edgecolor=\"red\")\n",
    "\n",
    "# Graph Labels\n",
    "plt.title(\"City Latitude vs. Max Temperature (04/01/2020)\")\n",
    "plt.ylabel(\"Max Temp (°F)\")\n",
    "plt.xlabel(\"Lat\")\n",
    "plt.grid(True)\n",
    "\n",
    "# Save Image\n",
    "plt.savefig(\"./City Latitude vs. Temperature Plot.png\")\n",
    "\n",
    "# Show Plot\n",
    "plt.show()"
   ]
  },
  {
   "cell_type": "markdown",
   "metadata": {},
   "source": [
    "# Latitude vs. Temperature Plot Explanation"
   ]
  },
  {
   "cell_type": "markdown",
   "metadata": {},
   "source": [
    "The plot is analyzing temperatures across increasing latitudes. This data set is showing that the higher the latitude the lower the temperatire."
   ]
  },
  {
   "cell_type": "markdown",
   "metadata": {},
   "source": [
    "## Latitude vs. Humidity Plot"
   ]
  },
  {
   "cell_type": "code",
   "execution_count": 18,
   "metadata": {},
   "outputs": [
    {
     "data": {
      "image/png": "[encoded data removed]",
      "text/plain": [
       "<Figure size 432x288 with 1 Axes>"
      ]
     },
     "metadata": {
      "needs_background": "light"
     },
     "output_type": "display_data"
    }
   ],
   "source": [
    "\n",
    "# Build Scatter Plot for Requirement\n",
    "plt.scatter(weather_info[\"Lat\"], weather_info[\"Humidity\"], facecolors=\"red\", marker=\"o\", edgecolor=\"black\")\n",
    "\n",
    "# Graph Labels\n",
    "plt.title(\"City Latitude vs. Humidity (04/01/2020)\")\n",
    "plt.ylabel(\"Humidity (%)\")\n",
    "plt.xlabel(\"Lat\")\n",
    "plt.grid(True)\n",
    "\n",
    "# Save Image\n",
    "plt.savefig(\"./City Latitude vs. Humidity.png\")\n",
    "\n",
    "# Show Plot\n",
    "plt.show()"
   ]
  },
  {
   "cell_type": "markdown",
   "metadata": {},
   "source": [
    "# Latitude vs. Humidity Plot Explanation"
   ]
  },
  {
   "cell_type": "markdown",
   "metadata": {},
   "source": [
    "The plot is analyzing humidity across increasing latitudes. "
   ]
  },
  {
   "cell_type": "markdown",
   "metadata": {},
   "source": [
    "## Latitude vs. Cloudiness Plot"
   ]
  },
  {
   "cell_type": "code",
   "execution_count": 19,
   "metadata": {},
   "outputs": [
    {
     "data": {
      "image/png": "[encoded data removed]",
      "text/plain": [
       "<Figure size 432x288 with 1 Axes>"
      ]
     },
     "metadata": {
      "needs_background": "light"
     },
     "output_type": "display_data"
    }
   ],
   "source": [
    "# Build Scatter Plot for Requirement\n",
    "plt.scatter(weather_info[\"Lat\"], weather_info[\"Cloudiness\"], facecolors=\"green\", marker=\"o\", edgecolor=\"blue\")\n",
    "\n",
    "# Graph Labels\n",
    "plt.title(\"City Latitude vs. Cloudiness (04/01/2020)\")\n",
    "plt.ylabel(\"Cloudiness (%)\")\n",
    "plt.xlabel(\"Lat\")\n",
    "plt.grid(True)\n",
    "\n",
    "# Save Image\n",
    "plt.savefig(\"./City Latitude vs. Cloudiness.png\")\n",
    "\n",
    "# Show Plot\n",
    "plt.show()\n"
   ]
  },
  {
   "cell_type": "markdown",
   "metadata": {},
   "source": [
    "# Latitude vs. Cloudiness Plot Explanation"
   ]
  },
  {
   "cell_type": "markdown",
   "metadata": {},
   "source": [
    "The plot is analyzing cloudiness across increasing latitudes. "
   ]
  },
  {
   "cell_type": "markdown",
   "metadata": {},
   "source": [
    "## Latitude vs. Wind Speed Plot"
   ]
  },
  {
   "cell_type": "code",
   "execution_count": 20,
   "metadata": {},
   "outputs": [
    {
     "data": {
      "image/png": "[encoded data removed]",
      "text/plain": [
       "<Figure size 432x288 with 1 Axes>"
      ]
     },
     "metadata": {
      "needs_background": "light"
     },
     "output_type": "display_data"
    }
   ],
   "source": [
    "# Build Scatter Plot for Requirement\n",
    "plt.scatter(weather_info[\"Lat\"], weather_info[\"Wind Speed\"], facecolors=\"purple\", marker=\"o\", edgecolor=\"pink\")\n",
    "\n",
    "# Graph Labels\n",
    "plt.title(\"City Latitude vs. Wind Speed (04/20/2020)\")\n",
    "plt.ylabel(\"Wind Speed (mph)\")\n",
    "plt.xlabel(\"Lat\")\n",
    "plt.grid(True)\n",
    "\n",
    "# Save Image\n",
    "plt.savefig(\"./City Latitude vs. Wind Speed.png\")\n",
    "\n",
    "# Show Plot\n",
    "plt.show()"
   ]
  },
  {
   "cell_type": "markdown",
   "metadata": {},
   "source": [
    "## Linear Regression"
   ]
  },
  {
   "cell_type": "code",
   "execution_count": 21,
   "metadata": {},
   "outputs": [],
   "source": [
    "# Create Northern and Southern Hemisphere DataFrames\n",
    "northern_hemisphere = weather_info.loc[weather_info[\"Lat\"] > 0]\n",
    "southern_hemisphere = weather_info.loc[weather_info[\"Lat\"] < 0]\n",
    "                                      \n",
    "def linear_agression(x,y):\n",
    "    print(f\"The r-value is : {round(st.pearsonr(x, y)[0],2)}\")\n",
    "    (slope, intercept, rvalue, pvalue, stderr) = linregress(x, y)\n",
    "    regress_values = x * slope + intercept\n",
    "    line_eq = \"y = \" + str(round(slope,2)) + \"x + \" + str(round(intercept,2))\n",
    "    plt.scatter(x, y)\n",
    "    plt.plot(x,regress_values,\"r-\")\n",
    "    return line_eq\n",
    "\n",
    "def annotate(line_eq, a, b):\n",
    "    plt.annotate(line_eq,(a,b),fontsize=15,color=\"red\")"
   ]
  },
  {
   "cell_type": "markdown",
   "metadata": {},
   "source": [
    "####  Northern Hemisphere - Max Temp vs. Latitude Linear Regression"
   ]
  },
  {
   "cell_type": "code",
   "execution_count": 53,
   "metadata": {},
   "outputs": [
    {
     "name": "stdout",
     "output_type": "stream",
     "text": [
      "The r-value is : -0.88\n"
     ]
    },
    {
     "data": {
      "image/png": "[encoded data removed]",
      "text/plain": [
       "<Figure size 432x288 with 1 Axes>"
      ]
     },
     "metadata": {
      "needs_background": "light"
     },
     "output_type": "display_data"
    }
   ],
   "source": [
    "equation = linear_agression(northern_hemisphere[\"Lat\"], northern_hemisphere[\"Max Temp\"])\n",
    "annotate(equation, 0, -30)\n",
    "\n",
    "# Plot Labels\n",
    "plt.title(\"Northern Hemisphere - Max Temp vs. Latitude Linear Regression\")\n",
    "plt.xlabel(\"Latitude\")\n",
    "plt.ylabel(\"Max Temp (F)\")\n",
    "\n",
    "# Save the Image\n",
    "plt.savefig(\"./Northern Hemisphere - Max Temp vs. Latitude Linear Regression.png\")"
   ]
  },
  {
   "cell_type": "markdown",
   "metadata": {},
   "source": [
    "# Northern Hemisphere - Max Temp vs. Latitude Linear Regression Plot Explanation"
   ]
  },
  {
   "cell_type": "markdown",
   "metadata": {},
   "source": [
    "There is a strong negative correlation between latitude and high temperatures in the northern hemisphere"
   ]
  },
  {
   "cell_type": "markdown",
   "metadata": {},
   "source": [
    "#### Southern Hemisphere - Max Temp vs. Latitude Linear Regression"
   ]
  },
  {
   "cell_type": "code",
   "execution_count": 54,
   "metadata": {},
   "outputs": [
    {
     "name": "stdout",
     "output_type": "stream",
     "text": [
      "The r-value is : 0.56\n"
     ]
    },
    {
     "data": {
      "image/png": "[encoded data removed]",
      "text/plain": [
       "<Figure size 432x288 with 1 Axes>"
      ]
     },
     "metadata": {
      "needs_background": "light"
     },
     "output_type": "display_data"
    }
   ],
   "source": [
    "equation = linear_agression(southern_hemisphere[\"Lat\"],southern_hemisphere[\"Max Temp\"])\n",
    "annotate(equation, -55, 35)\n",
    "\n",
    "# Plot Labels\n",
    "plt.title(\"Southern Hemisphere - Max Temp vs. Latitude Linear Regression\")\n",
    "plt.xlabel(\"Latitude\")\n",
    "plt.ylabel(\"Max Temp (F)\")\n",
    "\n",
    "# Save the Image\n",
    "plt.savefig(\"./Southern Hemisphere - Max Temp vs. Latitude Linear Regression.png\")"
   ]
  },
  {
   "cell_type": "markdown",
   "metadata": {},
   "source": [
    "# Southern Hemisphere - Max Temp vs. Latitude Linear Regression Plot Explanation"
   ]
  },
  {
   "cell_type": "markdown",
   "metadata": {},
   "source": [
    "There is a some positive correlation between latitude and max temperature in the southern hemisphere."
   ]
  },
  {
   "cell_type": "markdown",
   "metadata": {},
   "source": [
    "####  Northern Hemisphere - Humidity (%) vs. Latitude Linear Regression"
   ]
  },
  {
   "cell_type": "code",
   "execution_count": 55,
   "metadata": {},
   "outputs": [
    {
     "name": "stdout",
     "output_type": "stream",
     "text": [
      "The r-value is : 0.42\n"
     ]
    },
    {
     "data": {
      "image/png": "[encoded data removed]",
      "text/plain": [
       "<Figure size 432x288 with 1 Axes>"
      ]
     },
     "metadata": {
      "needs_background": "light"
     },
     "output_type": "display_data"
    }
   ],
   "source": [
    "equation = linear_agression(northern_hemisphere[\"Lat\"], northern_hemisphere[\"Humidity\"])\n",
    "annotate(equation, 40, 15)\n",
    "\n",
    "# Plot Labels\n",
    "plt.title(\"Northern Hemisphere - Humidity (%) vs. Latitude Linear Regression\")\n",
    "plt.xlabel(\"Latitude\")\n",
    "plt.ylabel(\"Humidity (%)\")\n",
    "\n",
    "# Save the Image\n",
    "plt.savefig(\"./Northern Hemisphere - Humidity (%) vs. Latitude Linear Regression.png\")"
   ]
  },
  {
   "cell_type": "markdown",
   "metadata": {},
   "source": [
    "# Northern Hemisphere - Humidity (%) vs. Latitude Linear Regression Plot Explanation"
   ]
  },
  {
   "cell_type": "markdown",
   "metadata": {},
   "source": [
    "There is a some positive correlation between latitude and max temperature in the southern hemisphere."
   ]
  },
  {
   "cell_type": "markdown",
   "metadata": {},
   "source": [
    "####  Southern Hemisphere - Humidity (%) vs. Latitude Linear Regression"
   ]
  },
  {
   "cell_type": "code",
   "execution_count": 56,
   "metadata": {},
   "outputs": [
    {
     "name": "stdout",
     "output_type": "stream",
     "text": [
      "The r-value is : 0.24\n"
     ]
    },
    {
     "data": {
      "image/png": "[encoded data removed]",
      "text/plain": [
       "<Figure size 432x288 with 1 Axes>"
      ]
     },
     "metadata": {
      "needs_background": "light"
     },
     "output_type": "display_data"
    }
   ],
   "source": [
    "equation = linear_agression(southern_hemisphere[\"Lat\"], southern_hemisphere[\"Humidity\"])\n",
    "annotate(equation, -50, 20)\n",
    "\n",
    "# Plot Labels\n",
    "plt.title(\"Southern Hemisphere - Humidity (%) vs. Latitude Linear Regression\")\n",
    "plt.xlabel(\"Latitude\")\n",
    "plt.ylabel(\"Humidity (%)\")\n",
    "\n",
    "# Save the Image\n",
    "plt.savefig(\"./Southern Hemisphere - Humidity (%) vs. Latitude Linear Regression.png\")"
   ]
  },
  {
   "cell_type": "markdown",
   "metadata": {},
   "source": [
    "# Northern Hemisphere - Humidity (%) vs. Latitude Linear Regression Plot Explanation"
   ]
  },
  {
   "cell_type": "markdown",
   "metadata": {},
   "source": [
    "There is a some positive correlation between latitude and max temperature in the southern hemisphere."
   ]
  },
  {
   "cell_type": "markdown",
   "metadata": {},
   "source": [
    "####  Northern Hemisphere - Cloudiness (%) vs. Latitude Linear Regression"
   ]
  },
  {
   "cell_type": "code",
   "execution_count": 57,
   "metadata": {},
   "outputs": [
    {
     "name": "stdout",
     "output_type": "stream",
     "text": [
      "The r-value is : 0.23\n"
     ]
    },
    {
     "data": {
      "image/png": "[encoded data removed]",
      "text/plain": [
       "<Figure size 432x288 with 1 Axes>"
      ]
     },
     "metadata": {
      "needs_background": "light"
     },
     "output_type": "display_data"
    }
   ],
   "source": [
    "equation = linear_agression(northern_hemisphere[\"Lat\"], northern_hemisphere[\"Cloudiness\"])\n",
    "\n",
    "annotate(equation,40,40)\n",
    "\n",
    "# Plot Labels\n",
    "plt.title(\"Northern Hemisphere - Cloudiness (%) vs. Latitude Linear Regression\")\n",
    "plt.xlabel(\"Latitude\")\n",
    "plt.ylabel(\"Cloudiness (%)\")\n",
    "\n",
    "# Save the Iamge\n",
    "plt.savefig(\"./Northern Hemisphere - Cloudiness (%) vs. Latitude Linear Regression.png\")"
   ]
  },
  {
   "cell_type": "markdown",
   "metadata": {},
   "source": [
    "# Northern Hemisphere - Cloudiness (%) vs. Latitude Linear Regression Plot Explanation"
   ]
  },
  {
   "cell_type": "markdown",
   "metadata": {},
   "source": [
    "There is a very low positive correlation between latitude and cloudiness in the northern hemisphere."
   ]
  },
  {
   "cell_type": "markdown",
   "metadata": {},
   "source": [
    "####  Southern Hemisphere - Cloudiness (%) vs. Latitude Linear Regression"
   ]
  },
  {
   "cell_type": "code",
   "execution_count": 58,
   "metadata": {},
   "outputs": [
    {
     "name": "stdout",
     "output_type": "stream",
     "text": [
      "The r-value is : 0.4\n"
     ]
    },
    {
     "data": {
      "image/png": "[encoded data removed]",
      "text/plain": [
       "<Figure size 432x288 with 1 Axes>"
      ]
     },
     "metadata": {
      "needs_background": "light"
     },
     "output_type": "display_data"
    }
   ],
   "source": [
    "equation = linear_agression(southern_hemisphere[\"Lat\"], southern_hemisphere[\"Cloudiness\"])\n",
    "annotate(equation, -50, 80)\n",
    "\n",
    "# Plot Labels\n",
    "plt.title(\"Southern Hemisphere - Cloudiness (%) vs. Latitude Linear Regression\")\n",
    "plt.xlabel(\"Latitude\")\n",
    "plt.ylabel(\"Cloudiness (%)\")\n",
    "\n",
    "# Save the Image\n",
    "plt.savefig(\"./Southern Hemisphere - Cloudiness (%) vs. Latitude Linear Regression.png\")"
   ]
  },
  {
   "cell_type": "markdown",
   "metadata": {},
   "source": [
    "# Southern Hemisphere - Cloudiness (%) vs. Latitude Linear Regression Plot Explanation"
   ]
  },
  {
   "cell_type": "markdown",
   "metadata": {},
   "source": [
    "There is a very positive correlation between latitude and cloudiness in the southern hemisphere"
   ]
  },
  {
   "cell_type": "markdown",
   "metadata": {},
   "source": [
    "####  Northern Hemisphere - Wind Speed (mph) vs. Latitude Linear Regression"
   ]
  },
  {
   "cell_type": "code",
   "execution_count": null,
   "metadata": {},
   "outputs": [],
   "source": []
  },
  {
   "cell_type": "markdown",
   "metadata": {},
   "source": [
    "# Northern Hemisphere - Humidity (%) vs. Latitude Linear Regression Plot Explanation"
   ]
  },
  {
   "cell_type": "markdown",
   "metadata": {},
   "source": [
    "There is a some positive correlation between latitude and max temperature in the southern hemisphere."
   ]
  },
  {
   "cell_type": "markdown",
   "metadata": {},
   "source": [
    "####  Southern Hemisphere - Wind Speed (mph) vs. Latitude Linear Regression"
   ]
  },
  {
   "cell_type": "code",
   "execution_count": null,
   "metadata": {},
   "outputs": [],
   "source": []
  },
  {
   "cell_type": "markdown",
   "metadata": {},
   "source": [
    "# Northern Hemisphere - Humidity (%) vs. Latitude Linear Regression Plot Explanation"
   ]
  },
  {
   "cell_type": "markdown",
   "metadata": {},
   "source": [
    "There is a some positive correlation between latitude and max temperature in the southern hemisphere."
   ]
  }
 ],
 "metadata": {
  "anaconda-cloud": {},
  "kernel_info": {
   "name": "python3"
  },
  "kernelspec": {
   "display_name": "Python 3",
   "language": "python",
   "name": "python3"
  },
  "language_info": {
   "codemirror_mode": {
    "name": "ipython",
    "version": 3
   },
   "file_extension": ".py",
   "mimetype": "text/x-python",
   "name": "python",
   "nbconvert_exporter": "python",
   "pygments_lexer": "ipython3",
   "version": "3.6.10"
  },
  "latex_envs": {
   "LaTeX_envs_menu_present": true,
   "autoclose": false,
   "autocomplete": true,
   "bibliofile": "biblio.bib",
   "cite_by": "apalike",
   "current_citInitial": 1,
   "eqLabelWithNumbers": true,
   "eqNumInitial": 1,
   "hotkeys": {
    "equation": "Ctrl-E",
    "itemize": "Ctrl-I"
   },
   "labels_anchors": false,
   "latex_user_defs": false,
   "report_style_numbering": false,
   "user_envs_cfg": false
  },
  "nteract": {
   "version": "0.12.3"
  }
 },
 "nbformat": 4,
 "nbformat_minor": 2
}
